{
 "cells": [
  {
   "cell_type": "markdown",
   "id": "ed16c883-cf1b-4f5c-9bcf-d6002bb6954f",
   "metadata": {},
   "source": [
    "# Data Science Tools and Ecosystem"
   ]
  },
  {
   "cell_type": "markdown",
   "id": "fddbb127-4361-41bb-b91c-ed1db0592b14",
   "metadata": {},
   "source": [
    "In this notebook, Data Science Tools and Ecosystem are summarized"
   ]
  },
  {
   "cell_type": "markdown",
   "id": "ab26a1a6-912a-4121-90db-2271b42aabec",
   "metadata": {},
   "source": [
    "Some of the popular languages that Data Scientists use are:\n",
    "1. Python\n",
    "1. R\n"
   ]
  },
  {
   "attachments": {},
   "cell_type": "markdown",
   "id": "86fb9b34-cce9-4f9b-b2bb-119b22e4e6d4",
   "metadata": {},
   "source": [
    "Some of the commonly used libraries used by Data Scientiest include:\n",
    "1. Pandas\n",
    "2. NumPy\n",
    "3. SciPy\n",
    "4. Matplotlib"
   ]
  },
  {
   "cell_type": "markdown",
   "id": "2d5c8508-82cb-4c53-9252-1569ac853da5",
   "metadata": {},
   "source": [
    "|Data Science Tools|\n",
    "|--------|\n",
    "|MySQL|\n",
    "|MongoDB|\n",
    "|Hadoop|\n",
    "|jupyter|\n",
    "|RStudio|"
   ]
  },
  {
   "cell_type": "markdown",
   "id": "bbbe7e0f-2566-4890-87c4-83d2d6f651b5",
   "metadata": {},
   "source": [
    "### Below are a few examples of evaluating arithmetic expressions in Python"
   ]
  },
  {
   "cell_type": "code",
   "execution_count": 2,
   "id": "a55c68cd-8a80-4e02-9714-bee92ec7748f",
   "metadata": {},
   "outputs": [
    {
     "data": {
      "text/plain": [
       "17"
      ]
     },
     "execution_count": 2,
     "metadata": {},
     "output_type": "execute_result"
    }
   ],
   "source": [
    "# This is a simple arithmetic expression to multiply and then add integers.\n",
    "(3*4)+5\n"
   ]
  },
  {
   "cell_type": "code",
   "execution_count": 3,
   "id": "cd476eb2-7059-44cb-9f5d-e440f7842150",
   "metadata": {},
   "outputs": [
    {
     "name": "stdout",
     "output_type": "stream",
     "text": [
      "200 minutes is equal to 3.3333333333333335 hours\n"
     ]
    }
   ],
   "source": [
    "minutes = 200\n",
    "# this will convert 200 minutes to hours by diving by 60\n",
    "hours = minutes / 60\n",
    "\n",
    "print(f\"{minutes} minutes is equal to {hours} hours\")\n"
   ]
  },
  {
   "attachments": {},
   "cell_type": "markdown",
   "id": "df433dce-59fa-4562-b8e2-c94fefb7bc79",
   "metadata": {},
   "source": [
    "#### Some of the key takeaways from the course\n",
    "*Objectives* \n",
    "* The popular languages are Python, R, SQL, Scala, Java, C++, and Julia.\r",
    "*  For data science, you can use Python's scientific computing libraries like Pandas, NumPy, SciPy, and Matplotlib\n",
    "* Data science tools built with Java include Weka, Java-ML, Apache MLlib, and Deeplearning4.\r",
    "*  For data science,a  popular program built with Scala is Apache Spark which includes Shark, MLlib, GraphX, and Spark Streaming.* • Programs built for Data Science with JavaScript include TensorFlow.js and R-js.\r\n",
    "* "
   ]
  },
  {
   "cell_type": "markdown",
   "id": "ac04b5a7-707b-4177-aacf-bf41c449215e",
   "metadata": {},
   "source": [
    "## Author\n",
    "Madhur Maheshwari"
   ]
  },
  {
   "cell_type": "code",
   "execution_count": null,
   "id": "08c71026-9b36-4e82-89de-3d5bdb770b73",
   "metadata": {},
   "outputs": [],
   "source": []
  }
 ],
 "metadata": {
  "kernelspec": {
   "display_name": "Python 3 (ipykernel)",
   "language": "python",
   "name": "python3"
  },
  "language_info": {
   "codemirror_mode": {
    "name": "ipython",
    "version": 3
   },
   "file_extension": ".py",
   "mimetype": "text/x-python",
   "name": "python",
   "nbconvert_exporter": "python",
   "pygments_lexer": "ipython3",
   "version": "3.9.7"
  }
 },
 "nbformat": 4,
 "nbformat_minor": 5
}
